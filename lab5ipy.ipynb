{
  "cells": [
    {
      "cell_type": "markdown",
      "id": "0",
      "metadata": {
        "id": "0"
      },
      "source": [
        "# Get Started\n",
        "\n",
        "[![Open In Colab](https://colab.research.google.com/assets/colab-badge.svg)](https://colab.research.google.com/github/ezdanapak/Lab_5-ipynb/blob/main/lab5ipy.ipynb)\n",
        "\n"
      ]
    },
    {
      "cell_type": "markdown",
      "source": [
        "Exercise 1: Variable Assignment and Basic Operations"
      ],
      "metadata": {
        "id": "1USMNvjPxVut"
      },
      "id": "1USMNvjPxVut"
    },
    {
      "cell_type": "code",
      "source": [
        "latitude = 40.7128\n",
        "longitude = -74.0060\n",
        "population = 8336817\n",
        "areaNewYork = 783.8\n",
        "latitude = 40.7128\n",
        "longitude = -74.0060\n",
        "population = 8336817\n",
        "areaNewYork = 783.8\n",
        "\n",
        "density = population / areaNewYork\n",
        "print(\"Latitude:\", latitude, \"Longitude:\", longitude)\n",
        "print(\"People population per square kilometer\", density)"
      ],
      "metadata": {
        "id": "UEYrUIFOxWnF",
        "outputId": "793088d8-f661-45e5-8d96-12fc83293825",
        "colab": {
          "base_uri": "https://localhost:8080/"
        }
      },
      "id": "UEYrUIFOxWnF",
      "execution_count": null,
      "outputs": [
        {
          "output_type": "stream",
          "name": "stdout",
          "text": [
            "Latitude: 40.7128 Longitude: -74.006\n",
            "People population per square kilometer 10636.408522582293\n"
          ]
        }
      ]
    },
    {
      "cell_type": "markdown",
      "source": [
        "Exercise 2: Working with Strings"
      ],
      "metadata": {
        "id": "5MuVcyRbxXXc"
      },
      "id": "5MuVcyRbxXXc"
    }
  ],
  "metadata": {
    "kernelspec": {
      "display_name": "Python 3",
      "language": "python",
      "name": "python3"
    },
    "language_info": {
      "codemirror_mode": {
        "name": "ipython",
        "version": 3
      },
      "file_extension": ".py",
      "mimetype": "text/x-python",
      "name": "python",
      "nbconvert_exporter": "python",
      "pygments_lexer": "ipython3",
      "version": "3.11.8"
    },
    "colab": {
      "provenance": []
    }
  },
  "nbformat": 4,
  "nbformat_minor": 5
}