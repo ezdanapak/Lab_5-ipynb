{
  "cells": [
    {
      "cell_type": "markdown",
      "id": "0",
      "metadata": {
        "id": "0"
      },
      "source": [
        "# Get Started\n",
        "\n",
        "[![Open In Colab](https://colab.research.google.com/assets/colab-badge.svg)](https://colab.research.google.com/github/ezdanapak/Lab_5-ipynb/blob/main/lab5ipy.ipynb)\n",
        "\n"
      ]
    },
    {
      "cell_type": "markdown",
      "source": [
        "Exercise 1: Variable Assignment and Basic Operations"
      ],
      "metadata": {
        "id": "1USMNvjPxVut"
      },
      "id": "1USMNvjPxVut"
    },
    {
      "cell_type": "code",
      "source": [
        "import math\n",
        "\n",
        "def calculate_distance(lat1, lon1, lat2, lon2):\n",
        "    # Convert latitude and longitude from degrees to radians\n",
        "    lat1, lon1, lat2, lon2 = map(math.radians, [lat1, lon1, lat2, lon2])\n",
        "\n",
        "    # Haversine formula\n",
        "    delta_lat = lat2 - lat1\n",
        "    delta_lon = lon2 - lon1\n",
        "\n",
        "    a = math.sin(delta_lat / 2)**2 + math.cos(lat1) * math.cos(lat2) * math.sin(delta_lon / 2)**2\n",
        "    c = 2 * math.atan2(math.sqrt(a), math.sqrt(1 - a))\n",
        "\n",
        "    # Radius of Earth in kilometers (mean radius)\n",
        "    R = 6371.0\n",
        "\n",
        "    # Calculate the distance\n",
        "    distance = R * c\n",
        "    return distance\n"
      ],
      "metadata": {
        "id": "UEYrUIFOxWnF"
      },
      "id": "UEYrUIFOxWnF",
      "execution_count": 3,
      "outputs": []
    },
    {
      "cell_type": "code",
      "source": [
        "# List of coordinate pairs (latitude, longitude)\n",
        "coordinates = [\n",
        "    (51.5074, -0.1278),  # London\n",
        "    (48.8566, 2.3522),   # Paris\n",
        "    (40.7128, -74.0060), # New York\n",
        "    (34.0522, -118.2437) # Los Angeles\n",
        "]\n",
        "\n",
        "# Function to calculate distances for all pairs of coordinates\n",
        "def batch_distance_calculation(coords):\n",
        "    distances = []\n",
        "    for i in range(len(coords)):\n",
        "        for j in range(i+1, len(coords)):\n",
        "            lat1, lon1 = coords[i]\n",
        "            lat2, lon2 = coords[j]\n",
        "            distance = calculate_distance(lat1, lon1, lat2, lon2)\n",
        "            distances.append((coords[i], coords[j], distance))\n",
        "    return distances\n",
        "\n",
        "# Example usage: Calculate and print distances between all pairs\n",
        "distances = batch_distance_calculation(coordinates)\n",
        "\n",
        "for (coord1, coord2, dist) in distances:\n",
        "    print(f\"Distance between {coord1} and {coord2}: {dist:.2f} km\")\n"
      ],
      "metadata": {
        "colab": {
          "base_uri": "https://localhost:8080/"
        },
        "id": "EKStEysEdHOI",
        "outputId": "4d0ad611-91e2-4724-a934-72a12ca9cdb0"
      },
      "id": "EKStEysEdHOI",
      "execution_count": 4,
      "outputs": [
        {
          "output_type": "stream",
          "name": "stdout",
          "text": [
            "Distance between (51.5074, -0.1278) and (48.8566, 2.3522): 343.56 km\n",
            "Distance between (51.5074, -0.1278) and (40.7128, -74.006): 5570.22 km\n",
            "Distance between (51.5074, -0.1278) and (34.0522, -118.2437): 8755.60 km\n",
            "Distance between (48.8566, 2.3522) and (40.7128, -74.006): 5837.24 km\n",
            "Distance between (48.8566, 2.3522) and (34.0522, -118.2437): 9085.51 km\n",
            "Distance between (40.7128, -74.006) and (34.0522, -118.2437): 3935.75 km\n"
          ]
        }
      ]
    },
    {
      "cell_type": "markdown",
      "source": [
        "Exercise 2: Batch Distance Calculation"
      ],
      "metadata": {
        "id": "xu3S7qL_djKR"
      },
      "id": "xu3S7qL_djKR"
    },
    {
      "cell_type": "code",
      "source": [
        "import math\n",
        "\n",
        "# Haversine formula function\n",
        "def calculate_distance(lat1, lon1, lat2, lon2):\n",
        "    # Convert latitude and longitude from degrees to radians\n",
        "    lat1, lon1, lat2, lon2 = map(math.radians, [lat1, lon1, lat2, lon2])\n",
        "\n",
        "    # Haversine formula\n",
        "    delta_lat = lat2 - lat1\n",
        "    delta_lon = lon2 - lon1\n",
        "\n",
        "    a = math.sin(delta_lat / 2)**2 + math.cos(lat1) * math.cos(lat2) * math.sin(delta_lon / 2)**2\n",
        "    c = 2 * math.atan2(math.sqrt(a), math.sqrt(1 - a))\n",
        "\n",
        "    # Radius of Earth in kilometers (mean radius)\n",
        "    R = 6371.0\n",
        "\n",
        "    # Calculate the distance\n",
        "    distance = R * c\n",
        "    return distance\n",
        "\n",
        "# Function to calculate distances between consecutive pairs\n",
        "def batch_distance_calculation(coords):\n",
        "    distances = []\n",
        "    for i in range(len(coords) - 1):\n",
        "        lat1, lon1 = coords[i]\n",
        "        lat2, lon2 = coords[i + 1]\n",
        "        distance = calculate_distance(lat1, lon1, lat2, lon2)\n",
        "        distances.append(distance)\n",
        "    return distances\n",
        "\n",
        "# Example coordinates representing several cities\n",
        "coordinates = [\n",
        "    (51.5074, -0.1278),  # London\n",
        "    (48.8566, 2.3522),   # Paris\n",
        "    (40.7128, -74.0060), # New York\n",
        "    (34.0522, -118.2437) # Los Angeles\n",
        "]\n",
        "\n",
        "# Test the batch_distance_calculation function\n",
        "distances = batch_distance_calculation(coordinates)\n",
        "\n",
        "# Print the distances between consecutive cities\n",
        "for i, dist in enumerate(distances):\n",
        "    print(f\"Distance between city {i+1} and city {i+2}: {dist:.2f} km\")\n"
      ],
      "metadata": {
        "id": "qDzDvgOGdic3"
      },
      "id": "qDzDvgOGdic3",
      "execution_count": null,
      "outputs": []
    },
    {
      "cell_type": "markdown",
      "source": [
        "Exercise 3: Creating and Using a Point Class"
      ],
      "metadata": {
        "id": "s3MTB_b2dvOA"
      },
      "id": "s3MTB_b2dvOA"
    },
    {
      "cell_type": "code",
      "source": [
        "import math\n",
        "\n",
        "# Haversine formula function to calculate the distance\n",
        "def calculate_distance(lat1, lon1, lat2, lon2):\n",
        "    # Convert latitude and longitude from degrees to radians\n",
        "    lat1, lon1, lat2, lon2 = map(math.radians, [lat1, lon1, lat2, lon2])\n",
        "\n",
        "    # Haversine formula\n",
        "    delta_lat = lat2 - lat1\n",
        "    delta_lon = lon2 - lon1\n",
        "\n",
        "    a = math.sin(delta_lat / 2)**2 + math.cos(lat1) * math.cos(lat2) * math.sin(delta_lon / 2)**2\n",
        "    c = 2 * math.atan2(math.sqrt(a), math.sqrt(1 - a))\n",
        "\n",
        "    # Radius of Earth in kilometers (mean radius)\n",
        "    R = 6371.0\n",
        "\n",
        "    # Calculate the distance\n",
        "    distance = R * c\n",
        "    return distance\n",
        "\n",
        "# Define the Point class\n",
        "class Point:\n",
        "    def __init__(self, latitude, longitude, name):\n",
        "        self.latitude = latitude\n",
        "        self.longitude = longitude\n",
        "        self.name = name\n",
        "\n",
        "    def distance_to(self, other_point):\n",
        "        # Use the calculate_distance function to get the distance between self and other_point\n",
        "        return calculate_distance(self.latitude, self.longitude, other_point.latitude, other_point.longitude)\n",
        "\n",
        "# Instantiate several Point objects representing different cities\n",
        "london = Point(51.5074, -0.1278, \"London\")\n",
        "paris = Point(48.8566, 2.3522, \"Paris\")\n",
        "new_york = Point(40.7128, -74.0060, \"New York\")\n",
        "los_angeles = Point(34.0522, -118.2437, \"Los Angeles\")\n",
        "\n",
        "# Calculate and print distances between cities\n",
        "print(f\"Distance from {london.name} to {paris.name}: {london.distance_to(paris):.2f} km\")\n",
        "print(f\"Distance from {paris.name} to {new_york.name}: {paris.distance_to(new_york):.2f} km\")\n",
        "print(f\"Distance from {new_york.name} to {los_angeles.name}: {new_york.distance_to(los_angeles):.2f} km\")\n",
        "print(f\"Distance from {london.name} to {new_york.name}: {london.distance_to(new_york):.2f} km\")\n"
      ],
      "metadata": {
        "colab": {
          "base_uri": "https://localhost:8080/"
        },
        "id": "ZCknVlh6dvsQ",
        "outputId": "0211a6f3-0f70-4b3c-8bda-42896cbfa5b4"
      },
      "id": "ZCknVlh6dvsQ",
      "execution_count": 6,
      "outputs": [
        {
          "output_type": "stream",
          "name": "stdout",
          "text": [
            "Distance from London to Paris: 343.56 km\n",
            "Distance from Paris to New York: 5837.24 km\n",
            "Distance from New York to Los Angeles: 3935.75 km\n",
            "Distance from London to New York: 5570.22 km\n"
          ]
        }
      ]
    },
    {
      "cell_type": "markdown",
      "source": [
        "Exercise 4: Reading and Writing Files"
      ],
      "metadata": {
        "id": "6l79Wn9Wd6I_"
      },
      "id": "6l79Wn9Wd6I_"
    },
    {
      "cell_type": "code",
      "source": [],
      "metadata": {
        "id": "4uwNFly0d7-H"
      },
      "id": "4uwNFly0d7-H",
      "execution_count": null,
      "outputs": []
    }
  ],
  "metadata": {
    "kernelspec": {
      "display_name": "Python 3",
      "language": "python",
      "name": "python3"
    },
    "language_info": {
      "codemirror_mode": {
        "name": "ipython",
        "version": 3
      },
      "file_extension": ".py",
      "mimetype": "text/x-python",
      "name": "python",
      "nbconvert_exporter": "python",
      "pygments_lexer": "ipython3",
      "version": "3.11.8"
    },
    "colab": {
      "provenance": []
    }
  },
  "nbformat": 4,
  "nbformat_minor": 5
}