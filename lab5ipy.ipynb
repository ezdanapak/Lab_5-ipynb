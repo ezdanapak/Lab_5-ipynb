{
  "cells": [
    {
      "cell_type": "markdown",
      "id": "0",
      "metadata": {
        "id": "0"
      },
      "source": [
        "# Get Started\n",
        "\n",
        "[![Open In Colab](https://colab.research.google.com/assets/colab-badge.svg)](https://colab.research.google.com/github/ezdanapak/Lab_5-ipynb/blob/main/lab5ipy.ipynb)\n",
        "\n"
      ]
    },
    {
      "cell_type": "markdown",
      "source": [
        "Exercise 1: Variable Assignment and Basic Operations"
      ],
      "metadata": {
        "id": "1USMNvjPxVut"
      },
      "id": "1USMNvjPxVut"
    },
    {
      "cell_type": "code",
      "source": [
        "latitude = 40.7128\n",
        "longitude = -74.0060\n",
        "population = 8336817\n",
        "areaNewYork = 783.8\n",
        "latitude = 40.7128\n",
        "longitude = -74.0060\n",
        "population = 8336817\n",
        "areaNewYork = 783.8\n",
        "\n",
        "density = population / areaNewYork\n",
        "print(\"Latitude:\", latitude, \"Longitude:\", longitude)\n",
        "print(\"People population per square kilometer\", density)"
      ],
      "metadata": {
        "id": "UEYrUIFOxWnF",
        "outputId": "793088d8-f661-45e5-8d96-12fc83293825",
        "colab": {
          "base_uri": "https://localhost:8080/"
        }
      },
      "id": "UEYrUIFOxWnF",
      "execution_count": null,
      "outputs": [
        {
          "output_type": "stream",
          "name": "stdout",
          "text": [
            "Latitude: 40.7128 Longitude: -74.006\n",
            "People population per square kilometer 10636.408522582293\n"
          ]
        }
      ]
    },
    {
      "cell_type": "markdown",
      "source": [
        "Exercise 2: Working with Strings"
      ],
      "metadata": {
        "id": "5MuVcyRbxXXc"
      },
      "id": "5MuVcyRbxXXc"
    },
    {
      "cell_type": "code",
      "source": [
        "city = 'San Francisco'\n",
        "\n",
        "replstring = city.replace(\"San\", \"Los\")\n",
        "\n",
        "print(city.lower(),\"< lowercase &  uppercase >\",city.upper(),\"\\t\",\n",
        "      \"&\",replstring)"
      ],
      "metadata": {
        "id": "P6HwaE9g3ETW",
        "outputId": "a2d82e6e-bc98-4225-b9e6-a484a7b75d7c",
        "colab": {
          "base_uri": "https://localhost:8080/"
        }
      },
      "id": "P6HwaE9g3ETW",
      "execution_count": null,
      "outputs": [
        {
          "output_type": "stream",
          "name": "stdout",
          "text": [
            "san francisco < lowercase &  uppercase > SAN FRANCISCO \t & Los Francisco\n"
          ]
        }
      ]
    },
    {
      "cell_type": "markdown",
      "source": [
        "Exercise 3: Using Lists"
      ],
      "metadata": {
        "id": "fLR4IWtn6Agg"
      },
      "id": "fLR4IWtn6Agg"
    },
    {
      "cell_type": "code",
      "source": [
        "cities = (['New York City:', 40.7128, -74.0060], ['Los Angeles:', 34.0522, -118.2437], [\"Chicago:\", 41.8781, -87.6298])\n",
        "cities = list(cities)\n",
        "cities.append([\"Miami:\", 25.7617, -80.1918])\n",
        "cities = tuple(cities)\n",
        "\n",
        "print(cities)\n",
        "print(cities[0:2])\n"
      ],
      "metadata": {
        "id": "rOxaf5nZ5_uA",
        "outputId": "3aed3283-f3a0-435b-9731-1501ea3a8cc8",
        "colab": {
          "base_uri": "https://localhost:8080/"
        }
      },
      "id": "rOxaf5nZ5_uA",
      "execution_count": null,
      "outputs": [
        {
          "output_type": "stream",
          "name": "stdout",
          "text": [
            "(['New York City:', 40.7128, -74.006], ['Los Angeles:', 34.0522, -118.2437])\n"
          ]
        }
      ]
    },
    {
      "cell_type": "markdown",
      "source": [
        "Exercise 4: Using Tuples"
      ],
      "metadata": {
        "id": "Htjdmomw90gR"
      },
      "id": "Htjdmomw90gR"
    },
    {
      "cell_type": "code",
      "source": [
        "eiffel_tower = (48.8584, 2.2945)\n",
        "print(eiffel_tower)\n",
        "\n",
        "#eiffel_tower[0] = 48.8585\n",
        "#TypeError: 'tuple' object does not support item assignment\n",
        "#In tuples you can't change values after they are created."
      ],
      "metadata": {
        "id": "1Xzq6OSi91TQ",
        "outputId": "07c7cf2c-c614-419f-f111-85bce8a43706",
        "colab": {
          "base_uri": "https://localhost:8080/",
          "height": 193
        }
      },
      "id": "1Xzq6OSi91TQ",
      "execution_count": null,
      "outputs": [
        {
          "output_type": "stream",
          "name": "stdout",
          "text": [
            "(48.8584, 2.2945)\n"
          ]
        },
        {
          "output_type": "error",
          "ename": "TypeError",
          "evalue": "'tuple' object does not support item assignment",
          "traceback": [
            "\u001b[0;31m---------------------------------------------------------------------------\u001b[0m",
            "\u001b[0;31mTypeError\u001b[0m                                 Traceback (most recent call last)",
            "\u001b[0;32m<ipython-input-31-5053b9e78a07>\u001b[0m in \u001b[0;36m<cell line: 0>\u001b[0;34m()\u001b[0m\n\u001b[1;32m      1\u001b[0m \u001b[0meiffel_tower\u001b[0m \u001b[0;34m=\u001b[0m \u001b[0;34m(\u001b[0m\u001b[0;36m48.8584\u001b[0m\u001b[0;34m,\u001b[0m \u001b[0;36m2.2945\u001b[0m\u001b[0;34m)\u001b[0m\u001b[0;34m\u001b[0m\u001b[0;34m\u001b[0m\u001b[0m\n\u001b[1;32m      2\u001b[0m \u001b[0mprint\u001b[0m\u001b[0;34m(\u001b[0m\u001b[0meiffel_tower\u001b[0m\u001b[0;34m)\u001b[0m\u001b[0;34m\u001b[0m\u001b[0;34m\u001b[0m\u001b[0m\n\u001b[0;32m----> 3\u001b[0;31m \u001b[0meiffel_tower\u001b[0m\u001b[0;34m[\u001b[0m\u001b[0;36m0\u001b[0m\u001b[0;34m]\u001b[0m \u001b[0;34m=\u001b[0m \u001b[0;36m48.8585\u001b[0m\u001b[0;34m\u001b[0m\u001b[0;34m\u001b[0m\u001b[0m\n\u001b[0m",
            "\u001b[0;31mTypeError\u001b[0m: 'tuple' object does not support item assignment"
          ]
        }
      ]
    },
    {
      "cell_type": "markdown",
      "source": [
        "Exercise 5: Working with Sets"
      ],
      "metadata": {
        "id": "b18dXEaACOHC"
      },
      "id": "b18dXEaACOHC"
    },
    {
      "cell_type": "code",
      "source": [
        "visited_countries = {\"Poland\", \"Netherlands\", \"Czech republic\"}\n",
        "\n",
        "visited_countries.add(\"Turkey\")\n",
        "\n",
        "print(visited_countries)\n",
        "\n",
        "#visited_countries.add(\"Turkey\")\n",
        "#print(visited_countries)\n",
        "#Nothing happens, here are not allowed dublicates"
      ],
      "metadata": {
        "id": "wcr3-xQeCN4Z",
        "outputId": "48aa8944-d4fa-43eb-94e0-083aa8f7e31a",
        "colab": {
          "base_uri": "https://localhost:8080/"
        }
      },
      "id": "wcr3-xQeCN4Z",
      "execution_count": null,
      "outputs": [
        {
          "output_type": "stream",
          "name": "stdout",
          "text": [
            "{'Turkey', 'Netherlands', 'Poland', 'Czech republic'}\n",
            "{'Turkey', 'Netherlands', 'Poland', 'Czech republic'}\n"
          ]
        }
      ]
    },
    {
      "cell_type": "markdown",
      "source": [
        "Exercise 6: Working with Dictionaries"
      ],
      "metadata": {
        "id": "Ba_j8m1CEjSU"
      },
      "id": "Ba_j8m1CEjSU"
    },
    {
      "cell_type": "code",
      "source": [
        "river = {\"Name\": \"Amazon River\", \"Length\": \"6400 km\", \"Countries\": \"([“Brazil”, “Peru”, “Colombia”])\"}\n",
        "print(river)\n",
        "\n",
        "river[\"av_discharge\"] = \"209,000 m³/s\"\n",
        "river[\"Length\"] = \"6992 km\"\n",
        "\n",
        "print(river)\n",
        "\n"
      ],
      "metadata": {
        "id": "unORzDflEjxy",
        "colab": {
          "base_uri": "https://localhost:8080/"
        },
        "outputId": "8824a017-6fa3-4036-f7a1-07b8ea8499f8"
      },
      "id": "unORzDflEjxy",
      "execution_count": null,
      "outputs": [
        {
          "output_type": "stream",
          "name": "stdout",
          "text": [
            "{'Name': 'Amazon River', 'Length': '6400 km', 'Countries': '([“Brazil”, “Peru”, “Colombia”])'}\n",
            "{'Name': 'Amazon River', 'Length': '6992 km', 'Countries': '([“Brazil”, “Peru”, “Colombia”])', 'av_discharge': '209,000 m³/s'}\n"
          ]
        }
      ]
    },
    {
      "cell_type": "markdown",
      "source": [
        "Exercise 7: Nested Data Structures"
      ],
      "metadata": {
        "id": "TFNS9pOBn402"
      },
      "id": "TFNS9pOBn402"
    },
    {
      "cell_type": "code",
      "source": [
        "city = {\"Name\": \"Tokyo\", \"Population\": 13515271, \"Coordinates\": (35.6895, 139.6917)}\n",
        "print(city)\n",
        "\n",
        "\n",
        "print(city[\"Population\"])\n",
        "print(city[\"Coordinates\"][0])\n",
        "\n",
        "city.update({\"Population\": 14000000})\n",
        "print(city[\"Population\"])\n"
      ],
      "metadata": {
        "colab": {
          "base_uri": "https://localhost:8080/"
        },
        "id": "4i6bhSgsn5Of",
        "outputId": "99c5951d-f044-46b5-f072-744fddc34916"
      },
      "id": "4i6bhSgsn5Of",
      "execution_count": null,
      "outputs": [
        {
          "output_type": "stream",
          "name": "stdout",
          "text": [
            "{'Name': 'Tokyo', 'Population': 13515271, 'Coordinates': (35.6895, 139.6917)}\n",
            "13515271\n",
            "35.6895\n",
            "14000000\n"
          ]
        }
      ]
    },
    {
      "cell_type": "markdown",
      "source": [
        "Exercise 8: List Operations"
      ],
      "metadata": {
        "id": "pFocZMQ9zOFB"
      },
      "id": "pFocZMQ9zOFB"
    },
    {
      "cell_type": "code",
      "source": [
        "cities = (['New York City:', 40.7128, -74.0060], ['Los Angeles:', 34.0522, -118.2437], [\"Chicago:\", 41.8781, -87.6298])\n",
        "cities = list(cities)\n",
        "\n",
        "cities.sort()\n",
        "#print(cities)\n",
        "\n",
        "city_names = [city[0] for city in cities]\n",
        "print(city_names)\n",
        "\n",
        "cities.pop()\n",
        "print(cities)"
      ],
      "metadata": {
        "colab": {
          "base_uri": "https://localhost:8080/"
        },
        "id": "If-1H_mIzPpv",
        "outputId": "3ab4c496-0ea2-4192-827c-ae58985e1f4f"
      },
      "id": "If-1H_mIzPpv",
      "execution_count": null,
      "outputs": [
        {
          "output_type": "stream",
          "name": "stdout",
          "text": [
            "['Chicago:', 'Los Angeles:', 'New York City:']\n",
            "[['Chicago:', 41.8781, -87.6298], ['Los Angeles:', 34.0522, -118.2437]]\n"
          ]
        }
      ]
    },
    {
      "cell_type": "markdown",
      "source": [
        "Exercise 9: Dictionary Operations"
      ],
      "metadata": {
        "id": "NQb34szz2X2r"
      },
      "id": "NQb34szz2X2r"
    },
    {
      "cell_type": "code",
      "source": [
        "river = {\"Name\": \"Amazon River\", \"Length\": \"6400 km\", \"Countries\": \"([“Brazil”, “Peru”, “Colombia”])\"}\n",
        "\n",
        "\n",
        "\n",
        "if \"Length\" in river:\n",
        "  print(river[\"Length\"])\n",
        "else:\n",
        "   print(\"The key 'Length' does not exist\")\n",
        "\n",
        "print(river.keys())\n",
        "\n",
        "print(river.values())\n"
      ],
      "metadata": {
        "colab": {
          "base_uri": "https://localhost:8080/"
        },
        "id": "9Z9AgYcP2YYi",
        "outputId": "58fdf2cd-6798-415c-f0ad-76f4e5d97b7b"
      },
      "id": "9Z9AgYcP2YYi",
      "execution_count": null,
      "outputs": [
        {
          "output_type": "stream",
          "name": "stdout",
          "text": [
            "6400 km\n",
            "dict_keys(['Name', 'Length', 'Countries'])\n",
            "dict_values(['Amazon River', '6400 km', '([“Brazil”, “Peru”, “Colombia”])'])\n"
          ]
        }
      ]
    },
    {
      "cell_type": "markdown",
      "source": [
        "Exercise 10: Practical Application"
      ],
      "metadata": {
        "id": "Zgbk0KjR9UVv"
      },
      "id": "Zgbk0KjR9UVv"
    },
    {
      "cell_type": "code",
      "source": [
        "\n",
        "locations = [\n",
        "    (\"Mount Everest\", 27.9881, 86.9250),\n",
        "    (\"K2\", 35.8808, 76.5155),\n",
        "    (\"Kangchenjunga\", 27.7025, 88.1475),\n",
        "]\n",
        "\n",
        "\n",
        "location_names = [location[0] for location in locations]\n",
        "print(\"Location Names:\", location_names)\n",
        "\n",
        "location_dict = {location[0]: (location[1], location[2]) for location in locations}\n",
        "print(\"\\nLoc_Dictionary:\", location_dict)\n",
        "\n",
        "\n",
        "k2_lat = location_dict[\"K2\"][0]\n",
        "print(\"\\nLatitude of K2:\", k2_lat)\n"
      ],
      "metadata": {
        "colab": {
          "base_uri": "https://localhost:8080/"
        },
        "id": "QxNFs9GG9Vd9",
        "outputId": "774425ad-181c-4144-d6eb-299747eb0e2d"
      },
      "id": "QxNFs9GG9Vd9",
      "execution_count": null,
      "outputs": [
        {
          "output_type": "stream",
          "name": "stdout",
          "text": [
            "Location Names: ['Mount Everest', 'K2', 'Kangchenjunga']\n",
            "\n",
            "Loc_Dictionary: {'Mount Everest': (27.9881, 86.925), 'K2': (35.8808, 76.5155), 'Kangchenjunga': (27.7025, 88.1475)}\n",
            "\n",
            "Latitude of K2: 35.8808\n"
          ]
        }
      ]
    },
    {
      "cell_type": "markdown",
      "source": [
        "Exercise 11: Manipulating Geographic Location Strings"
      ],
      "metadata": {
        "id": "CCt3QG2_iUaV"
      },
      "id": "CCt3QG2_iUaV"
    },
    {
      "cell_type": "code",
      "source": [
        "river_name = \"Amazon River\"\n",
        "\n",
        "lower_case_river = river_name.lower()\n",
        "upper_case_river = river_name.upper()\n",
        "\n",
        "print(\"Lowercase River Name:\", lower_case_river,\"\\n\",\"Uppercase River Name:\", upper_case_river)\n",
        "\n",
        "country = \"Brazil\"\n",
        "merged_string = river_name + \" flows in \" + country\n",
        "\n",
        "#print(\"\\nMerged String:\", merged_string)\n",
        "\n",
        "repeated_string = '-'.join([merged_string] * 3)\n",
        "print(\"\\nRepeated String:\", repeated_string)\n"
      ],
      "metadata": {
        "id": "EYTIWuBOiXZE",
        "outputId": "11ac8db3-9b36-4799-93cf-e6748f95c788",
        "colab": {
          "base_uri": "https://localhost:8080/"
        }
      },
      "id": "EYTIWuBOiXZE",
      "execution_count": null,
      "outputs": [
        {
          "output_type": "stream",
          "name": "stdout",
          "text": [
            "Lowercase River Name: amazon river \n",
            " Uppercase River Name: AMAZON RIVER\n",
            "\n",
            "Repeated String: Amazon River flows in Brazil-Amazon River flows in Brazil-Amazon River flows in Brazil\n"
          ]
        }
      ]
    },
    {
      "cell_type": "markdown",
      "source": [
        "Exercise 12: Extracting and Formatting Coordinates"
      ],
      "metadata": {
        "id": "NZarW6SWluLN"
      },
      "id": "NZarW6SWluLN"
    },
    {
      "cell_type": "code",
      "source": [
        "x = \"40.7128N, 74.0060W\"\n",
        "y = x.split(\", \")\n",
        "\n",
        "latitude = float(y[0].split(\"N\")[0])\n",
        "longitude = float(y[1].split(\"W\")[0])\n",
        "\n",
        "print(\"Latitude:\", latitude, \"\\n\", \"Longitude:\", longitude)\n",
        "\n",
        "wkt_point = f\"POINT(-{longitude} {latitude})\"\n",
        "\n",
        "print(\"WKT Format:\", wkt_point)\n",
        "\n"
      ],
      "metadata": {
        "id": "nmnudzPFlxpF",
        "outputId": "fc9e87a4-2d1f-4a0c-9ffa-defc2d07fc3c",
        "colab": {
          "base_uri": "https://localhost:8080/"
        }
      },
      "id": "nmnudzPFlxpF",
      "execution_count": null,
      "outputs": [
        {
          "output_type": "stream",
          "name": "stdout",
          "text": [
            "Latitude: 40.7128 \n",
            " Longitude: 74.006\n",
            "WKT Format: POINT(-74.006 40.7128)\n"
          ]
        }
      ]
    },
    {
      "cell_type": "markdown",
      "source": [
        "Exercise 13: Building Dynamic SQL Queries\n"
      ],
      "metadata": {
        "id": "eDUPIGWRpbQe"
      },
      "id": "eDUPIGWRpbQe"
    },
    {
      "cell_type": "code",
      "source": [
        "table_name = \"cities\"\n",
        "condition = \"population > 1000000\"\n",
        "additional_conditions = [\"country = 'USA'\", \"climate = 'temperate'\"]\n",
        "\n",
        "query = \"SELECT * FROM \" + table_name\n",
        "\n",
        "if condition:\n",
        "    query += \" WHERE \" + condition\n",
        "\n",
        "if additional_conditions:\n",
        "    for add_condition in additional_conditions:\n",
        "        query += \" AND \" + add_condition\n",
        "\n",
        "query += \";\"\n",
        "\n",
        "print(query)"
      ],
      "metadata": {
        "id": "kCOSPvOWpdLU",
        "outputId": "15464f04-9fe2-4e10-f5da-313ef4cfec6c",
        "colab": {
          "base_uri": "https://localhost:8080/"
        }
      },
      "id": "kCOSPvOWpdLU",
      "execution_count": null,
      "outputs": [
        {
          "output_type": "stream",
          "name": "stdout",
          "text": [
            "SELECT * FROM cities WHERE population > 1000000 AND country = 'USA' AND climate = 'temperate';\n"
          ]
        }
      ]
    },
    {
      "cell_type": "markdown",
      "source": [
        "Exercise 14: String Normalization and Cleaning"
      ],
      "metadata": {
        "id": "AV9jxqhgpgWW"
      },
      "id": "AV9jxqhgpgWW"
    },
    {
      "cell_type": "code",
      "source": [
        "x = [\" new york \", \"Los ANGELES\", \"   CHICAGO\"]\n",
        "\n",
        "x_y = [city.strip().title() for city in x]\n",
        "\n",
        "print(x_y)\n",
        "\n"
      ],
      "metadata": {
        "id": "cw1GRM-2phqG",
        "outputId": "ab8df725-4e86-4e71-c4a0-33685ffeea80",
        "colab": {
          "base_uri": "https://localhost:8080/"
        }
      },
      "id": "cw1GRM-2phqG",
      "execution_count": null,
      "outputs": [
        {
          "output_type": "stream",
          "name": "stdout",
          "text": [
            "['New York', 'Los Angeles', 'Chicago']\n"
          ]
        }
      ]
    },
    {
      "cell_type": "markdown",
      "source": [
        "Exercise 15: Parsing and Extracting Address Information"
      ],
      "metadata": {
        "id": "--SuB1GKinrB"
      },
      "id": "--SuB1GKinrB"
    },
    {
      "cell_type": "code",
      "source": [
        "\n",
        "def parse_address(address):\n",
        "\n",
        "    parts = address.split(\", \")\n",
        "\n",
        "    if len(parts) == 3:\n",
        "        return {\n",
        "            \"street\": parts[0],\n",
        "            \"city\": parts[1],\n",
        "            \"country\": parts[2]\n",
        "        }\n",
        "    else:\n",
        "        print(\"error\")\n",
        "\n",
        "\n",
        "address = \"123 Main St, Springfield, USA\"\n",
        "address_dict = parse_address(address)\n",
        "print(address_dict)"
      ],
      "metadata": {
        "colab": {
          "base_uri": "https://localhost:8080/"
        },
        "id": "TEJsPHhrinzg",
        "outputId": "0331e47c-a195-426f-96de-f06f7fa450c9"
      },
      "id": "TEJsPHhrinzg",
      "execution_count": null,
      "outputs": [
        {
          "output_type": "stream",
          "name": "stdout",
          "text": [
            "{'street': '123 Main St', 'city': 'Springfield', 'country': 'USA'}\n"
          ]
        }
      ]
    },
    {
      "cell_type": "markdown",
      "source": [
        "Exercise 16: Using For Loops to Process Coordinate Lists"
      ],
      "metadata": {
        "id": "w7Hmv3YvkqGM"
      },
      "id": "w7Hmv3YvkqGM"
    },
    {
      "cell_type": "code",
      "source": [
        "coordinates = [\n",
        "    (40.7128, -74.0060),  # New York (Northern Hemisphere)\n",
        "    (-33.8688, 151.2093), # Sydney (Southern Hemisphere)\n",
        "    (51.5074, -0.1278),   # London (Northern Hemisphere)\n",
        "    (-22.9068, -43.1729), # Rio de Janeiro (Southern Hemisphere)\n",
        "    (34.0522, -118.2437)  # Los Angeles (Northern Hemisphere)\n",
        "]\n",
        "\n",
        "\n",
        "for latitude, longitude in coordinates:\n",
        "    hemisphere = \"Northern Hemisphere\" if latitude >= 0 else \"Southern Hemisphere\"\n",
        "    print(f\"Coordinate: ({latitude}, {longitude}) is in the {hemisphere}\")\n"
      ],
      "metadata": {
        "id": "96mszohykqOb"
      },
      "id": "96mszohykqOb",
      "execution_count": null,
      "outputs": []
    },
    {
      "cell_type": "markdown",
      "source": [
        "Exercise 17: While Loops for Iterative Processing"
      ],
      "metadata": {
        "id": "S9Izlfnlmfbs"
      },
      "id": "S9Izlfnlmfbs"
    },
    {
      "cell_type": "code",
      "source": [
        "coordinates = [\n",
        "    (40.7128, -74.0060),  # New York (Northern Hemisphere)\n",
        "    (51.5074, -0.1278),   # London (Northern Hemisphere)\n",
        "    (34.0522, -118.2437),  # Los Angeles (Northern Hemisphere)\n",
        "    (-33.8688, 151.2093), # Sydney (Southern Hemisphere)\n",
        "    (-22.9068, -43.1729)  # Rio de Janeiro (Southern Hemisphere)\n",
        "]\n",
        "\n",
        "\n",
        "index = 0\n",
        "\n",
        "while index < len(coordinates):\n",
        "    latitude, longitude = coordinates[index]\n",
        "\n",
        "    print(f\"Coordinate: ({latitude}, {longitude})\")\n",
        "\n",
        "    if latitude < 0:\n",
        "        break\n",
        "\n",
        "    index += 1\n"
      ],
      "metadata": {
        "colab": {
          "base_uri": "https://localhost:8080/"
        },
        "id": "dtaGhIfMmhJL",
        "outputId": "b4a64aef-9a1d-4940-e44f-ae768630fca4"
      },
      "id": "dtaGhIfMmhJL",
      "execution_count": null,
      "outputs": [
        {
          "output_type": "stream",
          "name": "stdout",
          "text": [
            "Coordinate: (40.7128, -74.006)\n",
            "Coordinate: (51.5074, -0.1278)\n",
            "Coordinate: (34.0522, -118.2437)\n",
            "Coordinate: (-33.8688, 151.2093)\n"
          ]
        }
      ]
    },
    {
      "cell_type": "markdown",
      "source": [
        "Exercise 18: Conditional Logic in Loops"
      ],
      "metadata": {
        "id": "ftpTlL_Xm8d_"
      },
      "id": "ftpTlL_Xm8d_"
    },
    {
      "cell_type": "code",
      "source": [
        "coordinates = [\n",
        "    (40.7128, -74.0060),  # New York (Western Hemisphere)\n",
        "    (51.5074, -0.1278),   # London (Western Hemisphere)\n",
        "    (34.0522, -118.2437),  # Los Angeles (Western Hemisphere)\n",
        "    (37.7749, 122.4194),   # San Francisco (Western Hemisphere)\n",
        "    (48.8566, 2.3522),     # Paris (Eastern Hemisphere)\n",
        "    (-33.8688, 151.2093),  # Sydney (Eastern Hemisphere)\n",
        "    (35.6895, 139.6917)    # Tokyo (Eastern Hemisphere)\n",
        "]\n",
        "\n",
        "\n",
        "for latitude, longitude in coordinates:\n",
        "\n",
        "    if longitude > 0:\n",
        "        print(f\"Coordinate: ({latitude}, {longitude}) is in the Eastern Hemisphere\")\n",
        "    elif longitude < 0:\n",
        "        print(f\"Coordinate: ({latitude}, {longitude}) is in the Western Hemisphere\")\n",
        "    else:\n",
        "        print(f\"Coordinate: ({latitude}, {longitude}) is on the Prime Meridian\")"
      ],
      "metadata": {
        "colab": {
          "base_uri": "https://localhost:8080/"
        },
        "id": "z4z3OqzpnGam",
        "outputId": "7ab0be95-606e-454d-a72a-0d6b0c18f1eb"
      },
      "id": "z4z3OqzpnGam",
      "execution_count": null,
      "outputs": [
        {
          "output_type": "stream",
          "name": "stdout",
          "text": [
            "Coordinate: (40.7128, -74.006) is in the Western Hemisphere\n",
            "Coordinate: (51.5074, -0.1278) is in the Western Hemisphere\n",
            "Coordinate: (34.0522, -118.2437) is in the Western Hemisphere\n",
            "Coordinate: (37.7749, 122.4194) is in the Eastern Hemisphere\n",
            "Coordinate: (48.8566, 2.3522) is in the Eastern Hemisphere\n",
            "Coordinate: (-33.8688, 151.2093) is in the Eastern Hemisphere\n",
            "Coordinate: (35.6895, 139.6917) is in the Eastern Hemisphere\n"
          ]
        }
      ]
    },
    {
      "cell_type": "markdown",
      "source": [
        "Exercise 19: Filtering Data with Combined Loops and Conditionals"
      ],
      "metadata": {
        "id": "KBT7iOkanV-P"
      },
      "id": "KBT7iOkanV-P"
    },
    {
      "cell_type": "code",
      "source": [
        "coordinates = [\n",
        "    (40.7128, -74.0060),  # New York (Northern Hemisphere)\n",
        "    (51.5074, -0.1278),   # London (Northern Hemisphere)\n",
        "    (34.0522, -118.2437),  # Los Angeles (Northern Hemisphere)\n",
        "    (-33.8688, 151.2093),  # Sydney (Southern Hemisphere)\n",
        "    (-22.9068, -43.1729),  # Rio de Janeiro (Southern Hemisphere)\n",
        "    (37.7749, -122.4194),  # San Francisco (Northern Hemisphere)\n",
        "    (-34.6037, -58.3816)   # Buenos Aires (Southern Hemisphere)\n",
        "]\n",
        "\n",
        "southern_hemisphere_coords = []\n",
        "\n",
        "for latitude, longitude in coordinates:\n",
        "    if latitude < 0:\n",
        "        southern_hemisphere_coords.append((latitude, longitude))\n",
        "\n",
        "\n",
        "southern_hemisphere_count = len(southern_hemisphere_coords)\n",
        "\n",
        "\n",
        "print(f\"Coordinates in the Southern Hemisphere: {southern_hemisphere_coords}\")\n",
        "print(f\"Number of coordinates in the Southern Hemisphere: {southern_hemisphere_count}\")\n"
      ],
      "metadata": {
        "colab": {
          "base_uri": "https://localhost:8080/"
        },
        "id": "mawgKciunXdG",
        "outputId": "cf79635c-f75b-4174-e5ee-6b764d89bb8f"
      },
      "id": "mawgKciunXdG",
      "execution_count": null,
      "outputs": [
        {
          "output_type": "stream",
          "name": "stdout",
          "text": [
            "Coordinates in the Southern Hemisphere: [(-33.8688, 151.2093), (-22.9068, -43.1729), (-34.6037, -58.3816)]\n",
            "Number of coordinates in the Southern Hemisphere: 3\n"
          ]
        }
      ]
    },
    {
      "cell_type": "markdown",
      "source": [
        "Exercise 20: Generating and Analyzing Random Coordinates"
      ],
      "metadata": {
        "id": "dzCjFSFWnwjC"
      },
      "id": "dzCjFSFWnwjC"
    },
    {
      "cell_type": "code",
      "source": [
        "import random\n",
        "\n",
        "coordinate = None\n",
        "\n",
        "while True:\n",
        "\n",
        "    latitude = random.uniform(-90, 90)\n",
        "    longitude = random.uniform(-180, 180)\n",
        "\n",
        "    print(f\"Generated coordinate: ({latitude}, {longitude})\")\n",
        "\n",
        "    if latitude > 50 and longitude > 50:\n",
        "        coordinate = (latitude, longitude)\n",
        "        break\n",
        "\n",
        "print(f\"Final coordinate that meets the condition: {coordinate}\")\n"
      ],
      "metadata": {
        "id": "FQ45R4Ronwvv"
      },
      "id": "FQ45R4Ronwvv",
      "execution_count": null,
      "outputs": []
    },
    {
      "cell_type": "code",
      "source": [],
      "metadata": {
        "id": "Eny46cYypYT-"
      },
      "id": "Eny46cYypYT-",
      "execution_count": null,
      "outputs": []
    }
  ],
  "metadata": {
    "kernelspec": {
      "display_name": "Python 3",
      "language": "python",
      "name": "python3"
    },
    "language_info": {
      "codemirror_mode": {
        "name": "ipython",
        "version": 3
      },
      "file_extension": ".py",
      "mimetype": "text/x-python",
      "name": "python",
      "nbconvert_exporter": "python",
      "pygments_lexer": "ipython3",
      "version": "3.11.8"
    },
    "colab": {
      "provenance": []
    }
  },
  "nbformat": 4,
  "nbformat_minor": 5
}